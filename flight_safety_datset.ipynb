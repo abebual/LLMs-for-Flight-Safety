{
  "nbformat": 4,
  "nbformat_minor": 0,
  "metadata": {
    "colab": {
      "provenance": [],
      "gpuType": "V100",
      "machine_shape": "hm",
      "mount_file_id": "1_63RHF1ZF9WR3icu08HlSV9pr2kPNsv2",
      "authorship_tag": "ABX9TyMHZHq88f8jbbWQC0DAL5eE",
      "include_colab_link": true
    },
    "kernelspec": {
      "name": "python3",
      "display_name": "Python 3"
    },
    "language_info": {
      "name": "python"
    },
    "accelerator": "GPU",
    "widgets": {
      "application/vnd.jupyter.widget-state+json": {
        "807b5a0e7fb24f20bf9a364084883bde": {
          "model_module": "@jupyter-widgets/controls",
          "model_name": "HBoxModel",
          "model_module_version": "1.5.0",
          "state": {
            "_dom_classes": [],
            "_model_module": "@jupyter-widgets/controls",
            "_model_module_version": "1.5.0",
            "_model_name": "HBoxModel",
            "_view_count": null,
            "_view_module": "@jupyter-widgets/controls",
            "_view_module_version": "1.5.0",
            "_view_name": "HBoxView",
            "box_style": "",
            "children": [
              "IPY_MODEL_70f91a15271547aa8dd59776a4fa7cc5",
              "IPY_MODEL_fbbe43bb2fec42649ddd5b48fe7a4b48",
              "IPY_MODEL_b5e19b15a49f4f8281392f4ab11b70bd"
            ],
            "layout": "IPY_MODEL_20b65d75696649ca87e21c3879d17a00"
          }
        },
        "70f91a15271547aa8dd59776a4fa7cc5": {
          "model_module": "@jupyter-widgets/controls",
          "model_name": "HTMLModel",
          "model_module_version": "1.5.0",
          "state": {
            "_dom_classes": [],
            "_model_module": "@jupyter-widgets/controls",
            "_model_module_version": "1.5.0",
            "_model_name": "HTMLModel",
            "_view_count": null,
            "_view_module": "@jupyter-widgets/controls",
            "_view_module_version": "1.5.0",
            "_view_name": "HTMLView",
            "description": "",
            "description_tooltip": null,
            "layout": "IPY_MODEL_ff344ccbc051495d8dfd9d1cd90e8002",
            "placeholder": "​",
            "style": "IPY_MODEL_de3c88ff41fe49e38ea00784942605b8",
            "value": "Resolving data files: 100%"
          }
        },
        "fbbe43bb2fec42649ddd5b48fe7a4b48": {
          "model_module": "@jupyter-widgets/controls",
          "model_name": "FloatProgressModel",
          "model_module_version": "1.5.0",
          "state": {
            "_dom_classes": [],
            "_model_module": "@jupyter-widgets/controls",
            "_model_module_version": "1.5.0",
            "_model_name": "FloatProgressModel",
            "_view_count": null,
            "_view_module": "@jupyter-widgets/controls",
            "_view_module_version": "1.5.0",
            "_view_name": "ProgressView",
            "bar_style": "success",
            "description": "",
            "description_tooltip": null,
            "layout": "IPY_MODEL_4ba2bae574044c54a75e0a5ea6971b75",
            "max": 65,
            "min": 0,
            "orientation": "horizontal",
            "style": "IPY_MODEL_ccc81d91aae74cd58323fe3da512d24f",
            "value": 65
          }
        },
        "b5e19b15a49f4f8281392f4ab11b70bd": {
          "model_module": "@jupyter-widgets/controls",
          "model_name": "HTMLModel",
          "model_module_version": "1.5.0",
          "state": {
            "_dom_classes": [],
            "_model_module": "@jupyter-widgets/controls",
            "_model_module_version": "1.5.0",
            "_model_name": "HTMLModel",
            "_view_count": null,
            "_view_module": "@jupyter-widgets/controls",
            "_view_module_version": "1.5.0",
            "_view_name": "HTMLView",
            "description": "",
            "description_tooltip": null,
            "layout": "IPY_MODEL_65052668e31644fbae1b76c75452a8c7",
            "placeholder": "​",
            "style": "IPY_MODEL_29264bdc0b0c407aabe719e82c872e25",
            "value": " 65/65 [00:00&lt;00:00, 5441.39it/s]"
          }
        },
        "20b65d75696649ca87e21c3879d17a00": {
          "model_module": "@jupyter-widgets/base",
          "model_name": "LayoutModel",
          "model_module_version": "1.2.0",
          "state": {
            "_model_module": "@jupyter-widgets/base",
            "_model_module_version": "1.2.0",
            "_model_name": "LayoutModel",
            "_view_count": null,
            "_view_module": "@jupyter-widgets/base",
            "_view_module_version": "1.2.0",
            "_view_name": "LayoutView",
            "align_content": null,
            "align_items": null,
            "align_self": null,
            "border": null,
            "bottom": null,
            "display": null,
            "flex": null,
            "flex_flow": null,
            "grid_area": null,
            "grid_auto_columns": null,
            "grid_auto_flow": null,
            "grid_auto_rows": null,
            "grid_column": null,
            "grid_gap": null,
            "grid_row": null,
            "grid_template_areas": null,
            "grid_template_columns": null,
            "grid_template_rows": null,
            "height": null,
            "justify_content": null,
            "justify_items": null,
            "left": null,
            "margin": null,
            "max_height": null,
            "max_width": null,
            "min_height": null,
            "min_width": null,
            "object_fit": null,
            "object_position": null,
            "order": null,
            "overflow": null,
            "overflow_x": null,
            "overflow_y": null,
            "padding": null,
            "right": null,
            "top": null,
            "visibility": null,
            "width": null
          }
        },
        "ff344ccbc051495d8dfd9d1cd90e8002": {
          "model_module": "@jupyter-widgets/base",
          "model_name": "LayoutModel",
          "model_module_version": "1.2.0",
          "state": {
            "_model_module": "@jupyter-widgets/base",
            "_model_module_version": "1.2.0",
            "_model_name": "LayoutModel",
            "_view_count": null,
            "_view_module": "@jupyter-widgets/base",
            "_view_module_version": "1.2.0",
            "_view_name": "LayoutView",
            "align_content": null,
            "align_items": null,
            "align_self": null,
            "border": null,
            "bottom": null,
            "display": null,
            "flex": null,
            "flex_flow": null,
            "grid_area": null,
            "grid_auto_columns": null,
            "grid_auto_flow": null,
            "grid_auto_rows": null,
            "grid_column": null,
            "grid_gap": null,
            "grid_row": null,
            "grid_template_areas": null,
            "grid_template_columns": null,
            "grid_template_rows": null,
            "height": null,
            "justify_content": null,
            "justify_items": null,
            "left": null,
            "margin": null,
            "max_height": null,
            "max_width": null,
            "min_height": null,
            "min_width": null,
            "object_fit": null,
            "object_position": null,
            "order": null,
            "overflow": null,
            "overflow_x": null,
            "overflow_y": null,
            "padding": null,
            "right": null,
            "top": null,
            "visibility": null,
            "width": null
          }
        },
        "de3c88ff41fe49e38ea00784942605b8": {
          "model_module": "@jupyter-widgets/controls",
          "model_name": "DescriptionStyleModel",
          "model_module_version": "1.5.0",
          "state": {
            "_model_module": "@jupyter-widgets/controls",
            "_model_module_version": "1.5.0",
            "_model_name": "DescriptionStyleModel",
            "_view_count": null,
            "_view_module": "@jupyter-widgets/base",
            "_view_module_version": "1.2.0",
            "_view_name": "StyleView",
            "description_width": ""
          }
        },
        "4ba2bae574044c54a75e0a5ea6971b75": {
          "model_module": "@jupyter-widgets/base",
          "model_name": "LayoutModel",
          "model_module_version": "1.2.0",
          "state": {
            "_model_module": "@jupyter-widgets/base",
            "_model_module_version": "1.2.0",
            "_model_name": "LayoutModel",
            "_view_count": null,
            "_view_module": "@jupyter-widgets/base",
            "_view_module_version": "1.2.0",
            "_view_name": "LayoutView",
            "align_content": null,
            "align_items": null,
            "align_self": null,
            "border": null,
            "bottom": null,
            "display": null,
            "flex": null,
            "flex_flow": null,
            "grid_area": null,
            "grid_auto_columns": null,
            "grid_auto_flow": null,
            "grid_auto_rows": null,
            "grid_column": null,
            "grid_gap": null,
            "grid_row": null,
            "grid_template_areas": null,
            "grid_template_columns": null,
            "grid_template_rows": null,
            "height": null,
            "justify_content": null,
            "justify_items": null,
            "left": null,
            "margin": null,
            "max_height": null,
            "max_width": null,
            "min_height": null,
            "min_width": null,
            "object_fit": null,
            "object_position": null,
            "order": null,
            "overflow": null,
            "overflow_x": null,
            "overflow_y": null,
            "padding": null,
            "right": null,
            "top": null,
            "visibility": null,
            "width": null
          }
        },
        "ccc81d91aae74cd58323fe3da512d24f": {
          "model_module": "@jupyter-widgets/controls",
          "model_name": "ProgressStyleModel",
          "model_module_version": "1.5.0",
          "state": {
            "_model_module": "@jupyter-widgets/controls",
            "_model_module_version": "1.5.0",
            "_model_name": "ProgressStyleModel",
            "_view_count": null,
            "_view_module": "@jupyter-widgets/base",
            "_view_module_version": "1.2.0",
            "_view_name": "StyleView",
            "bar_color": null,
            "description_width": ""
          }
        },
        "65052668e31644fbae1b76c75452a8c7": {
          "model_module": "@jupyter-widgets/base",
          "model_name": "LayoutModel",
          "model_module_version": "1.2.0",
          "state": {
            "_model_module": "@jupyter-widgets/base",
            "_model_module_version": "1.2.0",
            "_model_name": "LayoutModel",
            "_view_count": null,
            "_view_module": "@jupyter-widgets/base",
            "_view_module_version": "1.2.0",
            "_view_name": "LayoutView",
            "align_content": null,
            "align_items": null,
            "align_self": null,
            "border": null,
            "bottom": null,
            "display": null,
            "flex": null,
            "flex_flow": null,
            "grid_area": null,
            "grid_auto_columns": null,
            "grid_auto_flow": null,
            "grid_auto_rows": null,
            "grid_column": null,
            "grid_gap": null,
            "grid_row": null,
            "grid_template_areas": null,
            "grid_template_columns": null,
            "grid_template_rows": null,
            "height": null,
            "justify_content": null,
            "justify_items": null,
            "left": null,
            "margin": null,
            "max_height": null,
            "max_width": null,
            "min_height": null,
            "min_width": null,
            "object_fit": null,
            "object_position": null,
            "order": null,
            "overflow": null,
            "overflow_x": null,
            "overflow_y": null,
            "padding": null,
            "right": null,
            "top": null,
            "visibility": null,
            "width": null
          }
        },
        "29264bdc0b0c407aabe719e82c872e25": {
          "model_module": "@jupyter-widgets/controls",
          "model_name": "DescriptionStyleModel",
          "model_module_version": "1.5.0",
          "state": {
            "_model_module": "@jupyter-widgets/controls",
            "_model_module_version": "1.5.0",
            "_model_name": "DescriptionStyleModel",
            "_view_count": null,
            "_view_module": "@jupyter-widgets/base",
            "_view_module_version": "1.2.0",
            "_view_name": "StyleView",
            "description_width": ""
          }
        },
        "52f4910a7a5d48f496688b1b1bce8bfa": {
          "model_module": "@jupyter-widgets/controls",
          "model_name": "HBoxModel",
          "model_module_version": "1.5.0",
          "state": {
            "_dom_classes": [],
            "_model_module": "@jupyter-widgets/controls",
            "_model_module_version": "1.5.0",
            "_model_name": "HBoxModel",
            "_view_count": null,
            "_view_module": "@jupyter-widgets/controls",
            "_view_module_version": "1.5.0",
            "_view_name": "HBoxView",
            "box_style": "",
            "children": [
              "IPY_MODEL_18a1e9fcb4304c3295b66b3f91a777d2",
              "IPY_MODEL_02b154c1eb2f4101af893b7d07430124",
              "IPY_MODEL_8ecb2acd3c6f42ed90b5f529d0a46772"
            ],
            "layout": "IPY_MODEL_b7f9ca3e48dd4d7190d3b6baf647a008"
          }
        },
        "18a1e9fcb4304c3295b66b3f91a777d2": {
          "model_module": "@jupyter-widgets/controls",
          "model_name": "HTMLModel",
          "model_module_version": "1.5.0",
          "state": {
            "_dom_classes": [],
            "_model_module": "@jupyter-widgets/controls",
            "_model_module_version": "1.5.0",
            "_model_name": "HTMLModel",
            "_view_count": null,
            "_view_module": "@jupyter-widgets/controls",
            "_view_module_version": "1.5.0",
            "_view_name": "HTMLView",
            "description": "",
            "description_tooltip": null,
            "layout": "IPY_MODEL_4a6700a72cfa4e248ea1bce037329940",
            "placeholder": "​",
            "style": "IPY_MODEL_7dc05b548e924d60ab44158216af7629",
            "value": "Resolving data files: 100%"
          }
        },
        "02b154c1eb2f4101af893b7d07430124": {
          "model_module": "@jupyter-widgets/controls",
          "model_name": "FloatProgressModel",
          "model_module_version": "1.5.0",
          "state": {
            "_dom_classes": [],
            "_model_module": "@jupyter-widgets/controls",
            "_model_module_version": "1.5.0",
            "_model_name": "FloatProgressModel",
            "_view_count": null,
            "_view_module": "@jupyter-widgets/controls",
            "_view_module_version": "1.5.0",
            "_view_name": "ProgressView",
            "bar_style": "success",
            "description": "",
            "description_tooltip": null,
            "layout": "IPY_MODEL_1ba7b56cca7941b08c9f4144037869bb",
            "max": 28,
            "min": 0,
            "orientation": "horizontal",
            "style": "IPY_MODEL_6bd9267638464e6ebffe66481b116116",
            "value": 28
          }
        },
        "8ecb2acd3c6f42ed90b5f529d0a46772": {
          "model_module": "@jupyter-widgets/controls",
          "model_name": "HTMLModel",
          "model_module_version": "1.5.0",
          "state": {
            "_dom_classes": [],
            "_model_module": "@jupyter-widgets/controls",
            "_model_module_version": "1.5.0",
            "_model_name": "HTMLModel",
            "_view_count": null,
            "_view_module": "@jupyter-widgets/controls",
            "_view_module_version": "1.5.0",
            "_view_name": "HTMLView",
            "description": "",
            "description_tooltip": null,
            "layout": "IPY_MODEL_dbfcd493a8bf466cbdd8854636c40fe1",
            "placeholder": "​",
            "style": "IPY_MODEL_02011edef65c488895cbaa1b998b5971",
            "value": " 28/28 [00:00&lt;00:00, 2550.39it/s]"
          }
        },
        "b7f9ca3e48dd4d7190d3b6baf647a008": {
          "model_module": "@jupyter-widgets/base",
          "model_name": "LayoutModel",
          "model_module_version": "1.2.0",
          "state": {
            "_model_module": "@jupyter-widgets/base",
            "_model_module_version": "1.2.0",
            "_model_name": "LayoutModel",
            "_view_count": null,
            "_view_module": "@jupyter-widgets/base",
            "_view_module_version": "1.2.0",
            "_view_name": "LayoutView",
            "align_content": null,
            "align_items": null,
            "align_self": null,
            "border": null,
            "bottom": null,
            "display": null,
            "flex": null,
            "flex_flow": null,
            "grid_area": null,
            "grid_auto_columns": null,
            "grid_auto_flow": null,
            "grid_auto_rows": null,
            "grid_column": null,
            "grid_gap": null,
            "grid_row": null,
            "grid_template_areas": null,
            "grid_template_columns": null,
            "grid_template_rows": null,
            "height": null,
            "justify_content": null,
            "justify_items": null,
            "left": null,
            "margin": null,
            "max_height": null,
            "max_width": null,
            "min_height": null,
            "min_width": null,
            "object_fit": null,
            "object_position": null,
            "order": null,
            "overflow": null,
            "overflow_x": null,
            "overflow_y": null,
            "padding": null,
            "right": null,
            "top": null,
            "visibility": null,
            "width": null
          }
        },
        "4a6700a72cfa4e248ea1bce037329940": {
          "model_module": "@jupyter-widgets/base",
          "model_name": "LayoutModel",
          "model_module_version": "1.2.0",
          "state": {
            "_model_module": "@jupyter-widgets/base",
            "_model_module_version": "1.2.0",
            "_model_name": "LayoutModel",
            "_view_count": null,
            "_view_module": "@jupyter-widgets/base",
            "_view_module_version": "1.2.0",
            "_view_name": "LayoutView",
            "align_content": null,
            "align_items": null,
            "align_self": null,
            "border": null,
            "bottom": null,
            "display": null,
            "flex": null,
            "flex_flow": null,
            "grid_area": null,
            "grid_auto_columns": null,
            "grid_auto_flow": null,
            "grid_auto_rows": null,
            "grid_column": null,
            "grid_gap": null,
            "grid_row": null,
            "grid_template_areas": null,
            "grid_template_columns": null,
            "grid_template_rows": null,
            "height": null,
            "justify_content": null,
            "justify_items": null,
            "left": null,
            "margin": null,
            "max_height": null,
            "max_width": null,
            "min_height": null,
            "min_width": null,
            "object_fit": null,
            "object_position": null,
            "order": null,
            "overflow": null,
            "overflow_x": null,
            "overflow_y": null,
            "padding": null,
            "right": null,
            "top": null,
            "visibility": null,
            "width": null
          }
        },
        "7dc05b548e924d60ab44158216af7629": {
          "model_module": "@jupyter-widgets/controls",
          "model_name": "DescriptionStyleModel",
          "model_module_version": "1.5.0",
          "state": {
            "_model_module": "@jupyter-widgets/controls",
            "_model_module_version": "1.5.0",
            "_model_name": "DescriptionStyleModel",
            "_view_count": null,
            "_view_module": "@jupyter-widgets/base",
            "_view_module_version": "1.2.0",
            "_view_name": "StyleView",
            "description_width": ""
          }
        },
        "1ba7b56cca7941b08c9f4144037869bb": {
          "model_module": "@jupyter-widgets/base",
          "model_name": "LayoutModel",
          "model_module_version": "1.2.0",
          "state": {
            "_model_module": "@jupyter-widgets/base",
            "_model_module_version": "1.2.0",
            "_model_name": "LayoutModel",
            "_view_count": null,
            "_view_module": "@jupyter-widgets/base",
            "_view_module_version": "1.2.0",
            "_view_name": "LayoutView",
            "align_content": null,
            "align_items": null,
            "align_self": null,
            "border": null,
            "bottom": null,
            "display": null,
            "flex": null,
            "flex_flow": null,
            "grid_area": null,
            "grid_auto_columns": null,
            "grid_auto_flow": null,
            "grid_auto_rows": null,
            "grid_column": null,
            "grid_gap": null,
            "grid_row": null,
            "grid_template_areas": null,
            "grid_template_columns": null,
            "grid_template_rows": null,
            "height": null,
            "justify_content": null,
            "justify_items": null,
            "left": null,
            "margin": null,
            "max_height": null,
            "max_width": null,
            "min_height": null,
            "min_width": null,
            "object_fit": null,
            "object_position": null,
            "order": null,
            "overflow": null,
            "overflow_x": null,
            "overflow_y": null,
            "padding": null,
            "right": null,
            "top": null,
            "visibility": null,
            "width": null
          }
        },
        "6bd9267638464e6ebffe66481b116116": {
          "model_module": "@jupyter-widgets/controls",
          "model_name": "ProgressStyleModel",
          "model_module_version": "1.5.0",
          "state": {
            "_model_module": "@jupyter-widgets/controls",
            "_model_module_version": "1.5.0",
            "_model_name": "ProgressStyleModel",
            "_view_count": null,
            "_view_module": "@jupyter-widgets/base",
            "_view_module_version": "1.2.0",
            "_view_name": "StyleView",
            "bar_color": null,
            "description_width": ""
          }
        },
        "dbfcd493a8bf466cbdd8854636c40fe1": {
          "model_module": "@jupyter-widgets/base",
          "model_name": "LayoutModel",
          "model_module_version": "1.2.0",
          "state": {
            "_model_module": "@jupyter-widgets/base",
            "_model_module_version": "1.2.0",
            "_model_name": "LayoutModel",
            "_view_count": null,
            "_view_module": "@jupyter-widgets/base",
            "_view_module_version": "1.2.0",
            "_view_name": "LayoutView",
            "align_content": null,
            "align_items": null,
            "align_self": null,
            "border": null,
            "bottom": null,
            "display": null,
            "flex": null,
            "flex_flow": null,
            "grid_area": null,
            "grid_auto_columns": null,
            "grid_auto_flow": null,
            "grid_auto_rows": null,
            "grid_column": null,
            "grid_gap": null,
            "grid_row": null,
            "grid_template_areas": null,
            "grid_template_columns": null,
            "grid_template_rows": null,
            "height": null,
            "justify_content": null,
            "justify_items": null,
            "left": null,
            "margin": null,
            "max_height": null,
            "max_width": null,
            "min_height": null,
            "min_width": null,
            "object_fit": null,
            "object_position": null,
            "order": null,
            "overflow": null,
            "overflow_x": null,
            "overflow_y": null,
            "padding": null,
            "right": null,
            "top": null,
            "visibility": null,
            "width": null
          }
        },
        "02011edef65c488895cbaa1b998b5971": {
          "model_module": "@jupyter-widgets/controls",
          "model_name": "DescriptionStyleModel",
          "model_module_version": "1.5.0",
          "state": {
            "_model_module": "@jupyter-widgets/controls",
            "_model_module_version": "1.5.0",
            "_model_name": "DescriptionStyleModel",
            "_view_count": null,
            "_view_module": "@jupyter-widgets/base",
            "_view_module_version": "1.2.0",
            "_view_name": "StyleView",
            "description_width": ""
          }
        }
      }
    }
  },
  "cells": [
    {
      "cell_type": "markdown",
      "metadata": {
        "id": "view-in-github",
        "colab_type": "text"
      },
      "source": [
        "<a href=\"https://colab.research.google.com/github/abebual/LLMs-for-Flight-Safety/blob/main/flight_safety_datset.ipynb\" target=\"_parent\"><img src=\"https://colab.research.google.com/assets/colab-badge.svg\" alt=\"Open In Colab\"/></a>"
      ]
    },
    {
      "cell_type": "markdown",
      "source": [
        "# Load Flight Safety Dataset on Huggingface\n",
        "\n"
      ],
      "metadata": {
        "id": "DfxDjpb8PSrc"
      }
    },
    {
      "cell_type": "code",
      "source": [
        "! pip install PyPDF2"
      ],
      "metadata": {
        "colab": {
          "base_uri": "https://localhost:8080/"
        },
        "id": "pcmqqjVqflJ-",
        "outputId": "44a2c3e0-7d12-4b84-9826-783915ed4114"
      },
      "execution_count": null,
      "outputs": [
        {
          "output_type": "stream",
          "name": "stdout",
          "text": [
            "Collecting PyPDF2\n",
            "  Downloading pypdf2-3.0.1-py3-none-any.whl (232 kB)\n",
            "\u001b[?25l     \u001b[90m━━━━━━━━━━━━━━━━━━━━━━━━━━━━━━━━━━━━━━━━\u001b[0m \u001b[32m0.0/232.6 kB\u001b[0m \u001b[31m?\u001b[0m eta \u001b[36m-:--:--\u001b[0m\r\u001b[2K     \u001b[91m━━━━━━━━━━━━━━━━━━━━━━━━━━━━━━━━━\u001b[0m\u001b[90m╺\u001b[0m\u001b[90m━━━━━━\u001b[0m \u001b[32m194.6/232.6 kB\u001b[0m \u001b[31m5.9 MB/s\u001b[0m eta \u001b[36m0:00:01\u001b[0m\r\u001b[2K     \u001b[90m━━━━━━━━━━━━━━━━━━━━━━━━━━━━━━━━━━━━━━━━\u001b[0m \u001b[32m232.6/232.6 kB\u001b[0m \u001b[31m5.4 MB/s\u001b[0m eta \u001b[36m0:00:00\u001b[0m\n",
            "\u001b[?25hInstalling collected packages: PyPDF2\n",
            "Successfully installed PyPDF2-3.0.1\n"
          ]
        }
      ]
    },
    {
      "cell_type": "code",
      "source": [
        "! pip install transformers"
      ],
      "metadata": {
        "colab": {
          "base_uri": "https://localhost:8080/"
        },
        "id": "LfWmoxKNfwkW",
        "outputId": "8e7d4e11-1c53-459b-8d5a-af61d5fca291"
      },
      "execution_count": null,
      "outputs": [
        {
          "output_type": "stream",
          "name": "stdout",
          "text": [
            "Requirement already satisfied: transformers in /usr/local/lib/python3.10/dist-packages (4.35.2)\n",
            "Requirement already satisfied: filelock in /usr/local/lib/python3.10/dist-packages (from transformers) (3.13.1)\n",
            "Requirement already satisfied: huggingface-hub<1.0,>=0.16.4 in /usr/local/lib/python3.10/dist-packages (from transformers) (0.19.4)\n",
            "Requirement already satisfied: numpy>=1.17 in /usr/local/lib/python3.10/dist-packages (from transformers) (1.23.5)\n",
            "Requirement already satisfied: packaging>=20.0 in /usr/local/lib/python3.10/dist-packages (from transformers) (23.2)\n",
            "Requirement already satisfied: pyyaml>=5.1 in /usr/local/lib/python3.10/dist-packages (from transformers) (6.0.1)\n",
            "Requirement already satisfied: regex!=2019.12.17 in /usr/local/lib/python3.10/dist-packages (from transformers) (2023.6.3)\n",
            "Requirement already satisfied: requests in /usr/local/lib/python3.10/dist-packages (from transformers) (2.31.0)\n",
            "Requirement already satisfied: tokenizers<0.19,>=0.14 in /usr/local/lib/python3.10/dist-packages (from transformers) (0.15.0)\n",
            "Requirement already satisfied: safetensors>=0.3.1 in /usr/local/lib/python3.10/dist-packages (from transformers) (0.4.0)\n",
            "Requirement already satisfied: tqdm>=4.27 in /usr/local/lib/python3.10/dist-packages (from transformers) (4.66.1)\n",
            "Requirement already satisfied: fsspec>=2023.5.0 in /usr/local/lib/python3.10/dist-packages (from huggingface-hub<1.0,>=0.16.4->transformers) (2023.6.0)\n",
            "Requirement already satisfied: typing-extensions>=3.7.4.3 in /usr/local/lib/python3.10/dist-packages (from huggingface-hub<1.0,>=0.16.4->transformers) (4.5.0)\n",
            "Requirement already satisfied: charset-normalizer<4,>=2 in /usr/local/lib/python3.10/dist-packages (from requests->transformers) (3.3.2)\n",
            "Requirement already satisfied: idna<4,>=2.5 in /usr/local/lib/python3.10/dist-packages (from requests->transformers) (3.4)\n",
            "Requirement already satisfied: urllib3<3,>=1.21.1 in /usr/local/lib/python3.10/dist-packages (from requests->transformers) (2.0.7)\n",
            "Requirement already satisfied: certifi>=2017.4.17 in /usr/local/lib/python3.10/dist-packages (from requests->transformers) (2023.7.22)\n"
          ]
        }
      ]
    },
    {
      "cell_type": "code",
      "source": [
        "import PyPDF2\n",
        "import os\n",
        "\n",
        "input_dir = '/content/drive/MyDrive/LLMs_for_Flight_Safety/FAA Directives'\n",
        "\n",
        "output_file = '/content/drive/MyDrive/LLMs_for_Flight_Safety/vectorized_pdfs/text_corpus.txt'\n",
        "\n",
        "merged_text = \"\"\n",
        "with open(output_file, \"w\", encoding=\"utf-8\") as output:\n",
        "    for filename in os.listdir(input_dir):\n",
        "        if filename.endswith(\".pdf\"):\n",
        "            with open(os.path.join(input_dir, filename), \"rb\") as file:\n",
        "                pdf = PyPDF2.PdfReader(file)\n",
        "                for page_num in range(len(pdf.pages)):\n",
        "                    page = pdf.pages[page_num]\n",
        "                    text = page.extract_text()\n",
        "                    output.write(text + \"\\n\")\n",
        "                    merged_text += text + \"\\n\""
      ],
      "metadata": {
        "id": "-tWAlLXqcwbg"
      },
      "execution_count": null,
      "outputs": []
    },
    {
      "cell_type": "code",
      "source": [
        "output_dir = '/content/drive/MyDrive/LLMs_for_Flight_Safety/converted_txt'\n",
        "\n",
        "# Create the output directory if it doesn't exist\n",
        "if not os.path.exists(output_dir):\n",
        "    os.makedirs(output_dir)\n",
        "\n",
        "for filename in os.listdir(input_dir):\n",
        "    if filename.endswith(\".pdf\"):\n",
        "        pdf_path = os.path.join(input_dir, filename)\n",
        "        txt_filename = os.path.splitext(filename)[0] + '.txt'\n",
        "        txt_path = os.path.join(output_dir, txt_filename)\n",
        "\n",
        "        with open(pdf_path, \"rb\") as file:\n",
        "            pdf = PyPDF2.PdfReader(file)\n",
        "            text_content = []\n",
        "\n",
        "            for page_num in range(len(pdf.pages)):\n",
        "                page = pdf.pages[page_num]\n",
        "                text = page.extract_text()\n",
        "                if text:\n",
        "                    text_content.append(text)\n",
        "\n",
        "            if text_content:  # Check if there is any text extracted\n",
        "                with open(txt_path, \"w\", encoding=\"utf-8\") as txt_file:\n",
        "                    txt_file.write(\"\\n\".join(text_content))\n",
        "            else:  # If no text was extracted, delete the empty file\n",
        "                if os.path.exists(txt_path):\n",
        "                    os.remove(txt_path)\n"
      ],
      "metadata": {
        "id": "8qHYDp0rHqSh"
      },
      "execution_count": null,
      "outputs": []
    },
    {
      "cell_type": "code",
      "source": [
        "import random\n",
        "import shutil\n",
        "\n",
        "source_dir = '/content/drive/MyDrive/LLMs_for_Flight_Safety/converted_txt'\n",
        "train_dir = '/content/drive/MyDrive/LLMs_for_Flight_Safety/converted_txt/training'\n",
        "test_dir = '/content/drive/MyDrive/LLMs_for_Flight_Safety/converted_txt/test'\n",
        "\n",
        "# Create training and test directories if they don't exist\n",
        "os.makedirs(train_dir, exist_ok=True)\n",
        "os.makedirs(test_dir, exist_ok=True)\n",
        "\n",
        "# List all text files\n",
        "all_files = [f for f in os.listdir(source_dir) if f.endswith('.txt')]\n",
        "random.shuffle(all_files)\n",
        "\n",
        "# Calculate number of files for training (70%)\n",
        "num_train = int(0.7 * len(all_files))\n",
        "\n",
        "# Split files\n",
        "train_files = all_files[:num_train]\n",
        "test_files = all_files[num_train:]\n",
        "\n",
        "# Move files to respective directories\n",
        "for file in train_files:\n",
        "    shutil.move(os.path.join(source_dir, file), os.path.join(train_dir, file))\n",
        "\n",
        "for file in test_files:\n",
        "    shutil.move(os.path.join(source_dir, file), os.path.join(test_dir, file))\n"
      ],
      "metadata": {
        "id": "5jmhuZFwLtJY"
      },
      "execution_count": null,
      "outputs": []
    },
    {
      "cell_type": "code",
      "source": [
        "!pip install datasets"
      ],
      "metadata": {
        "colab": {
          "base_uri": "https://localhost:8080/"
        },
        "id": "gh0h6XtuPn2C",
        "outputId": "d312a846-172b-48d9-8936-a492c6ad37d6"
      },
      "execution_count": null,
      "outputs": [
        {
          "output_type": "stream",
          "name": "stdout",
          "text": [
            "Collecting datasets\n",
            "  Downloading datasets-2.15.0-py3-none-any.whl (521 kB)\n",
            "\u001b[2K     \u001b[90m━━━━━━━━━━━━━━━━━━━━━━━━━━━━━━━━━━━━━━━━\u001b[0m \u001b[32m521.2/521.2 kB\u001b[0m \u001b[31m8.1 MB/s\u001b[0m eta \u001b[36m0:00:00\u001b[0m\n",
            "\u001b[?25hRequirement already satisfied: numpy>=1.17 in /usr/local/lib/python3.10/dist-packages (from datasets) (1.23.5)\n",
            "Requirement already satisfied: pyarrow>=8.0.0 in /usr/local/lib/python3.10/dist-packages (from datasets) (9.0.0)\n",
            "Collecting pyarrow-hotfix (from datasets)\n",
            "  Downloading pyarrow_hotfix-0.6-py3-none-any.whl (7.9 kB)\n",
            "Collecting dill<0.3.8,>=0.3.0 (from datasets)\n",
            "  Downloading dill-0.3.7-py3-none-any.whl (115 kB)\n",
            "\u001b[2K     \u001b[90m━━━━━━━━━━━━━━━━━━━━━━━━━━━━━━━━━━━━━━━━\u001b[0m \u001b[32m115.3/115.3 kB\u001b[0m \u001b[31m8.7 MB/s\u001b[0m eta \u001b[36m0:00:00\u001b[0m\n",
            "\u001b[?25hRequirement already satisfied: pandas in /usr/local/lib/python3.10/dist-packages (from datasets) (1.5.3)\n",
            "Requirement already satisfied: requests>=2.19.0 in /usr/local/lib/python3.10/dist-packages (from datasets) (2.31.0)\n",
            "Requirement already satisfied: tqdm>=4.62.1 in /usr/local/lib/python3.10/dist-packages (from datasets) (4.66.1)\n",
            "Requirement already satisfied: xxhash in /usr/local/lib/python3.10/dist-packages (from datasets) (3.4.1)\n",
            "Collecting multiprocess (from datasets)\n",
            "  Downloading multiprocess-0.70.15-py310-none-any.whl (134 kB)\n",
            "\u001b[2K     \u001b[90m━━━━━━━━━━━━━━━━━━━━━━━━━━━━━━━━━━━━━━━━\u001b[0m \u001b[32m134.8/134.8 kB\u001b[0m \u001b[31m9.7 MB/s\u001b[0m eta \u001b[36m0:00:00\u001b[0m\n",
            "\u001b[?25hRequirement already satisfied: fsspec[http]<=2023.10.0,>=2023.1.0 in /usr/local/lib/python3.10/dist-packages (from datasets) (2023.6.0)\n",
            "Requirement already satisfied: aiohttp in /usr/local/lib/python3.10/dist-packages (from datasets) (3.8.6)\n",
            "Requirement already satisfied: huggingface-hub>=0.18.0 in /usr/local/lib/python3.10/dist-packages (from datasets) (0.19.4)\n",
            "Requirement already satisfied: packaging in /usr/local/lib/python3.10/dist-packages (from datasets) (23.2)\n",
            "Requirement already satisfied: pyyaml>=5.1 in /usr/local/lib/python3.10/dist-packages (from datasets) (6.0.1)\n",
            "Requirement already satisfied: attrs>=17.3.0 in /usr/local/lib/python3.10/dist-packages (from aiohttp->datasets) (23.1.0)\n",
            "Requirement already satisfied: charset-normalizer<4.0,>=2.0 in /usr/local/lib/python3.10/dist-packages (from aiohttp->datasets) (3.3.2)\n",
            "Requirement already satisfied: multidict<7.0,>=4.5 in /usr/local/lib/python3.10/dist-packages (from aiohttp->datasets) (6.0.4)\n",
            "Requirement already satisfied: async-timeout<5.0,>=4.0.0a3 in /usr/local/lib/python3.10/dist-packages (from aiohttp->datasets) (4.0.3)\n",
            "Requirement already satisfied: yarl<2.0,>=1.0 in /usr/local/lib/python3.10/dist-packages (from aiohttp->datasets) (1.9.2)\n",
            "Requirement already satisfied: frozenlist>=1.1.1 in /usr/local/lib/python3.10/dist-packages (from aiohttp->datasets) (1.4.0)\n",
            "Requirement already satisfied: aiosignal>=1.1.2 in /usr/local/lib/python3.10/dist-packages (from aiohttp->datasets) (1.3.1)\n",
            "Requirement already satisfied: filelock in /usr/local/lib/python3.10/dist-packages (from huggingface-hub>=0.18.0->datasets) (3.13.1)\n",
            "Requirement already satisfied: typing-extensions>=3.7.4.3 in /usr/local/lib/python3.10/dist-packages (from huggingface-hub>=0.18.0->datasets) (4.5.0)\n",
            "Requirement already satisfied: idna<4,>=2.5 in /usr/local/lib/python3.10/dist-packages (from requests>=2.19.0->datasets) (3.4)\n",
            "Requirement already satisfied: urllib3<3,>=1.21.1 in /usr/local/lib/python3.10/dist-packages (from requests>=2.19.0->datasets) (2.0.7)\n",
            "Requirement already satisfied: certifi>=2017.4.17 in /usr/local/lib/python3.10/dist-packages (from requests>=2.19.0->datasets) (2023.7.22)\n",
            "Requirement already satisfied: python-dateutil>=2.8.1 in /usr/local/lib/python3.10/dist-packages (from pandas->datasets) (2.8.2)\n",
            "Requirement already satisfied: pytz>=2020.1 in /usr/local/lib/python3.10/dist-packages (from pandas->datasets) (2023.3.post1)\n",
            "Requirement already satisfied: six>=1.5 in /usr/local/lib/python3.10/dist-packages (from python-dateutil>=2.8.1->pandas->datasets) (1.16.0)\n",
            "Installing collected packages: pyarrow-hotfix, dill, multiprocess, datasets\n",
            "Successfully installed datasets-2.15.0 dill-0.3.7 multiprocess-0.70.15 pyarrow-hotfix-0.6\n"
          ]
        }
      ]
    },
    {
      "cell_type": "code",
      "source": [
        "\n",
        "# Initialize an empty list to hold the full file paths\n",
        "file_list_train = []\n",
        "\n",
        "# Loop over each entry in the folder\n",
        "for entry in os.listdir(train_dir):\n",
        "    # Construct the full path\n",
        "    full_path = os.path.join(train_dir, entry)\n",
        "    # Check if it's a file and not a directory\n",
        "    if os.path.isfile(full_path):\n",
        "        file_list_train.append(full_path)\n",
        "\n",
        "file_list_train\n"
      ],
      "metadata": {
        "colab": {
          "base_uri": "https://localhost:8080/"
        },
        "id": "ozzx17cdOPaK",
        "outputId": "8573d3bc-0b35-4a63-ddd1-487086900fbe"
      },
      "execution_count": null,
      "outputs": [
        {
          "output_type": "execute_result",
          "data": {
            "text/plain": [
              "['/content/drive/MyDrive/LLMs_for_Flight_Safety/converted_txt/training/2013 Code of Federal Regulations Title 14 Part 33.txt',\n",
              " '/content/drive/MyDrive/LLMs_for_Flight_Safety/converted_txt/training/FAR 25_119 Landing Climb - All-Engines-Operating.txt',\n",
              " '/content/drive/MyDrive/LLMs_for_Flight_Safety/converted_txt/training/FAR 25_903 Engines.txt',\n",
              " '/content/drive/MyDrive/LLMs_for_Flight_Safety/converted_txt/training/FAR 25 Appendix C.txt',\n",
              " '/content/drive/MyDrive/LLMs_for_Flight_Safety/converted_txt/training/FAR 25 Appendix O - Supercooled Large Drop Icing Conditions.txt',\n",
              " '/content/drive/MyDrive/LLMs_for_Flight_Safety/converted_txt/training/FAR 33_7 Engine Ratings and Operating Limitations.txt',\n",
              " '/content/drive/MyDrive/LLMs_for_Flight_Safety/converted_txt/training/FAR 33_27 Turbine, Compressor - Fan and Turbosupercharger Rotors.txt',\n",
              " '/content/drive/MyDrive/LLMs_for_Flight_Safety/converted_txt/training/FAR 33_68 Induction System Icing.txt',\n",
              " '/content/drive/MyDrive/LLMs_for_Flight_Safety/converted_txt/training/FAR 33_69 Ignitions System.txt',\n",
              " '/content/drive/MyDrive/LLMs_for_Flight_Safety/converted_txt/training/FAR 33_73 Power Or Thrust Response.txt',\n",
              " '/content/drive/MyDrive/LLMs_for_Flight_Safety/converted_txt/training/FAR 33_78 Rain and Hail Ingestion.txt',\n",
              " '/content/drive/MyDrive/LLMs_for_Flight_Safety/converted_txt/training/FAR 33_89 Operation Test.txt',\n",
              " '/content/drive/MyDrive/LLMs_for_Flight_Safety/converted_txt/training/FAR 33_87 Endurance Test (Non-Rotorcraft Sections).txt',\n",
              " '/content/drive/MyDrive/LLMs_for_Flight_Safety/converted_txt/training/FAR 33_201 Design and Test Requirements for Early ETOPS Eligibility.txt',\n",
              " '/content/drive/MyDrive/LLMs_for_Flight_Safety/converted_txt/training/AC 33-7A.txt',\n",
              " '/content/drive/MyDrive/LLMs_for_Flight_Safety/converted_txt/training/AC 33.83-1.txt',\n",
              " '/content/drive/MyDrive/LLMs_for_Flight_Safety/converted_txt/training/AC_33-6_CHG1_Incorporated.txt',\n",
              " '/content/drive/MyDrive/LLMs_for_Flight_Safety/converted_txt/training/AC 33.91-1.txt',\n",
              " '/content/drive/MyDrive/LLMs_for_Flight_Safety/converted_txt/training/AC 33.87-2.txt',\n",
              " '/content/drive/MyDrive/LLMs_for_Flight_Safety/converted_txt/training/AC 33.27-1A.txt',\n",
              " '/content/drive/MyDrive/LLMs_for_Flight_Safety/converted_txt/training/AC 33.78-1.txt',\n",
              " '/content/drive/MyDrive/LLMs_for_Flight_Safety/converted_txt/training/AC 33.63-1.txt',\n",
              " '/content/drive/MyDrive/LLMs_for_Flight_Safety/converted_txt/training/AC 33.19-1.txt',\n",
              " '/content/drive/MyDrive/LLMs_for_Flight_Safety/converted_txt/training/AC 33.15-2.txt',\n",
              " '/content/drive/MyDrive/LLMs_for_Flight_Safety/converted_txt/training/AC_33.70-1_CHG1_Incorporated.txt',\n",
              " '/content/drive/MyDrive/LLMs_for_Flight_Safety/converted_txt/training/AC 33.4-2.txt',\n",
              " '/content/drive/MyDrive/LLMs_for_Flight_Safety/converted_txt/training/AC 33.90-1A.txt',\n",
              " '/content/drive/MyDrive/LLMs_for_Flight_Safety/converted_txt/training/AC 33.7-1.txt',\n",
              " '/content/drive/MyDrive/LLMs_for_Flight_Safety/converted_txt/training/AC 33.15-1.txt',\n",
              " '/content/drive/MyDrive/LLMs_for_Flight_Safety/converted_txt/training/AC 33.70-2.txt',\n",
              " '/content/drive/MyDrive/LLMs_for_Flight_Safety/converted_txt/training/33.74-92-1B.txt',\n",
              " '/content/drive/MyDrive/LLMs_for_Flight_Safety/converted_txt/training/AC 33.28-1.txt',\n",
              " '/content/drive/MyDrive/LLMs_for_Flight_Safety/converted_txt/training/AC 33.28-2.txt',\n",
              " '/content/drive/MyDrive/LLMs_for_Flight_Safety/converted_txt/training/AC-33.83-2B.txt',\n",
              " '/content/drive/MyDrive/LLMs_for_Flight_Safety/converted_txt/training/AC 33.17-1A.txt',\n",
              " '/content/drive/MyDrive/LLMs_for_Flight_Safety/converted_txt/training/AC 33-2C.txt',\n",
              " '/content/drive/MyDrive/LLMs_for_Flight_Safety/converted_txt/training/AC 33.70-4_Final.txt',\n",
              " '/content/drive/MyDrive/LLMs_for_Flight_Safety/converted_txt/training/AC 33.28-3.txt',\n",
              " '/content/drive/MyDrive/LLMs_for_Flight_Safety/converted_txt/training/AC 33-8.txt',\n",
              " '/content/drive/MyDrive/LLMs_for_Flight_Safety/converted_txt/training/AC 33.76-1B.txt',\n",
              " '/content/drive/MyDrive/LLMs_for_Flight_Safety/converted_txt/training/AC 33-5.txt',\n",
              " '/content/drive/MyDrive/LLMs_for_Flight_Safety/converted_txt/training/AC 33.47-1.txt',\n",
              " '/content/drive/MyDrive/LLMs_for_Flight_Safety/converted_txt/training/AC 33.87-1A.txt',\n",
              " '/content/drive/MyDrive/LLMs_for_Flight_Safety/converted_txt/training/AC_33.70-3.txt',\n",
              " '/content/drive/MyDrive/LLMs_for_Flight_Safety/converted_txt/training/2000-33.7-RO.txt',\n",
              " '/content/drive/MyDrive/LLMs_for_Flight_Safety/converted_txt/training/1999-33-35.txt',\n",
              " '/content/drive/MyDrive/LLMs_for_Flight_Safety/converted_txt/training/PS-ane-2004-33.4-4.txt',\n",
              " '/content/drive/MyDrive/LLMs_for_Flight_Safety/converted_txt/training/PS-ANE-33.83-01.txt',\n",
              " '/content/drive/MyDrive/LLMs_for_Flight_Safety/converted_txt/training/PS-ANE-33.89-01.txt',\n",
              " '/content/drive/MyDrive/LLMs_for_Flight_Safety/converted_txt/training/PS-ANE-2006-33.3-4.txt',\n",
              " '/content/drive/MyDrive/LLMs_for_Flight_Safety/converted_txt/training/ETOPS_ANE_COSpolicy_final.txt',\n",
              " '/content/drive/MyDrive/LLMs_for_Flight_Safety/converted_txt/training/PS-ANE-33.75-01.txt',\n",
              " '/content/drive/MyDrive/LLMs_for_Flight_Safety/converted_txt/training/PS-AIR-33.70-02.txt',\n",
              " '/content/drive/MyDrive/LLMs_for_Flight_Safety/converted_txt/training/ANE-2007-33.78-1.txt',\n",
              " '/content/drive/MyDrive/LLMs_for_Flight_Safety/converted_txt/training/3315memo.txt',\n",
              " '/content/drive/MyDrive/LLMs_for_Flight_Safety/converted_txt/training/ANE-2007-33.78-1 (1).txt',\n",
              " '/content/drive/MyDrive/LLMs_for_Flight_Safety/converted_txt/training/AIR600-20-600-PM02.txt',\n",
              " '/content/drive/MyDrive/LLMs_for_Flight_Safety/converted_txt/training/1993-33.28TLD-R1.txt',\n",
              " '/content/drive/MyDrive/LLMs_for_Flight_Safety/converted_txt/training/Signed-33-7-5A-REISSUED-Final-Policy-Fuel-Oil-Limit.txt',\n",
              " '/content/drive/MyDrive/LLMs_for_Flight_Safety/converted_txt/training/PS-ANE-33.27-01.txt',\n",
              " '/content/drive/MyDrive/LLMs_for_Flight_Safety/converted_txt/training/PS-AIR-33.27-02.txt',\n",
              " '/content/drive/MyDrive/LLMs_for_Flight_Safety/converted_txt/training/AIR-600-22-600-GM02.txt',\n",
              " '/content/drive/MyDrive/LLMs_for_Flight_Safety/converted_txt/training/AIR-600-22-600-GM03.txt',\n",
              " '/content/drive/MyDrive/LLMs_for_Flight_Safety/converted_txt/training/Order_1000.36.txt',\n",
              " '/content/drive/MyDrive/LLMs_for_Flight_Safety/converted_txt/training/ANE-110_2012-06-29.txt']"
            ]
          },
          "metadata": {},
          "execution_count": 17
        }
      ]
    },
    {
      "cell_type": "code",
      "source": [
        "\n",
        "# Initialize an empty list to hold the full file paths\n",
        "file_list_test = []\n",
        "\n",
        "# Loop over each entry in the folder\n",
        "for entry in os.listdir(test_dir):\n",
        "    # Construct the full path\n",
        "    full_path = os.path.join(test_dir, entry)\n",
        "    # Check if it's a file and not a directory\n",
        "    if os.path.isfile(full_path):\n",
        "        file_list_test.append(full_path)\n",
        "\n",
        "file_list_test\n"
      ],
      "metadata": {
        "colab": {
          "base_uri": "https://localhost:8080/"
        },
        "id": "XyrEyMm6SHEv",
        "outputId": "cc8930c3-c16f-41a4-da5a-2d530d78542a"
      },
      "execution_count": null,
      "outputs": [
        {
          "output_type": "execute_result",
          "data": {
            "text/plain": [
              "['/content/drive/MyDrive/LLMs_for_Flight_Safety/converted_txt/test/FAR 25_1093 Induction System Icing Protection.txt',\n",
              " '/content/drive/MyDrive/LLMs_for_Flight_Safety/converted_txt/test/FAR 33_5 Instruction Manual for Installing and Operating the Engine.txt',\n",
              " '/content/drive/MyDrive/LLMs_for_Flight_Safety/converted_txt/test/FAR 33_65 Surge And Stall Characteristics.txt',\n",
              " '/content/drive/MyDrive/LLMs_for_Flight_Safety/converted_txt/test/FAR 33_77 Foreign Object Ingestion-Ice.txt',\n",
              " '/content/drive/MyDrive/LLMs_for_Flight_Safety/converted_txt/test/FAR 21_3 Reporting of failures malfunctions and defects.txt',\n",
              " '/content/drive/MyDrive/LLMs_for_Flight_Safety/converted_txt/test/AC 33-11.txt',\n",
              " '/content/drive/MyDrive/LLMs_for_Flight_Safety/converted_txt/test/AC 33.64-1.txt',\n",
              " '/content/drive/MyDrive/LLMs_for_Flight_Safety/converted_txt/test/AC 33.201-1.txt',\n",
              " '/content/drive/MyDrive/LLMs_for_Flight_Safety/converted_txt/test/AC 33.4-1.txt',\n",
              " '/content/drive/MyDrive/LLMs_for_Flight_Safety/converted_txt/test/AC33.4-3.txt',\n",
              " '/content/drive/MyDrive/LLMs_for_Flight_Safety/converted_txt/test/33.75-1A-chg1_incorporated.txt',\n",
              " '/content/drive/MyDrive/LLMs_for_Flight_Safety/converted_txt/test/AC_33.14-1_Chg 1.txt',\n",
              " '/content/drive/MyDrive/LLMs_for_Flight_Safety/converted_txt/test/AC 33.15-3_Final.txt',\n",
              " '/content/drive/MyDrive/LLMs_for_Flight_Safety/converted_txt/test/AC 33-9.txt',\n",
              " '/content/drive/MyDrive/LLMs_for_Flight_Safety/converted_txt/test/1994-00008.txt',\n",
              " '/content/drive/MyDrive/LLMs_for_Flight_Safety/converted_txt/test/PS-ANM-25-05 TARAM Policy Statement.txt',\n",
              " '/content/drive/MyDrive/LLMs_for_Flight_Safety/converted_txt/test/1997-00004.txt',\n",
              " '/content/drive/MyDrive/LLMs_for_Flight_Safety/converted_txt/test/2000-00010.txt',\n",
              " '/content/drive/MyDrive/LLMs_for_Flight_Safety/converted_txt/test/1999-00006.txt',\n",
              " '/content/drive/MyDrive/LLMs_for_Flight_Safety/converted_txt/test/PS-ANM-25-02.txt',\n",
              " '/content/drive/MyDrive/LLMs_for_Flight_Safety/converted_txt/test/PS-ANE-33.73-01.txt',\n",
              " '/content/drive/MyDrive/LLMs_for_Flight_Safety/converted_txt/test/3370-1.txt',\n",
              " '/content/drive/MyDrive/LLMs_for_Flight_Safety/converted_txt/test/PS-AIR-33.76-01.txt',\n",
              " '/content/drive/MyDrive/LLMs_for_Flight_Safety/converted_txt/test/ANE-2006-33.7-4-1.txt',\n",
              " '/content/drive/MyDrive/LLMs_for_Flight_Safety/converted_txt/test/PS-AIR-100-120-07.txt',\n",
              " '/content/drive/MyDrive/LLMs_for_Flight_Safety/converted_txt/test/AIR600-20-600-PM02 (1).txt',\n",
              " '/content/drive/MyDrive/LLMs_for_Flight_Safety/converted_txt/test/Signed-33-7-5A-REISSUED-Final-Policy-Fuel-Oil-Limit (1).txt',\n",
              " '/content/drive/MyDrive/LLMs_for_Flight_Safety/converted_txt/test/PS-AIR-600-20-01 Final.txt']"
            ]
          },
          "metadata": {},
          "execution_count": 18
        }
      ]
    },
    {
      "cell_type": "code",
      "source": [
        "from datasets import load_dataset\n",
        "flight_safety_dataset = load_dataset(\"text\", data_files={\"train\": file_list_train, \"test\": file_list_test})"
      ],
      "metadata": {
        "colab": {
          "base_uri": "https://localhost:8080/",
          "height": 81,
          "referenced_widgets": [
            "807b5a0e7fb24f20bf9a364084883bde",
            "70f91a15271547aa8dd59776a4fa7cc5",
            "fbbe43bb2fec42649ddd5b48fe7a4b48",
            "b5e19b15a49f4f8281392f4ab11b70bd",
            "20b65d75696649ca87e21c3879d17a00",
            "ff344ccbc051495d8dfd9d1cd90e8002",
            "de3c88ff41fe49e38ea00784942605b8",
            "4ba2bae574044c54a75e0a5ea6971b75",
            "ccc81d91aae74cd58323fe3da512d24f",
            "65052668e31644fbae1b76c75452a8c7",
            "29264bdc0b0c407aabe719e82c872e25",
            "52f4910a7a5d48f496688b1b1bce8bfa",
            "18a1e9fcb4304c3295b66b3f91a777d2",
            "02b154c1eb2f4101af893b7d07430124",
            "8ecb2acd3c6f42ed90b5f529d0a46772",
            "b7f9ca3e48dd4d7190d3b6baf647a008",
            "4a6700a72cfa4e248ea1bce037329940",
            "7dc05b548e924d60ab44158216af7629",
            "1ba7b56cca7941b08c9f4144037869bb",
            "6bd9267638464e6ebffe66481b116116",
            "dbfcd493a8bf466cbdd8854636c40fe1",
            "02011edef65c488895cbaa1b998b5971"
          ]
        },
        "id": "lj7toDo4O7c_",
        "outputId": "32452bf9-3728-4475-8f57-3d302bebe46c"
      },
      "execution_count": null,
      "outputs": [
        {
          "output_type": "display_data",
          "data": {
            "text/plain": [
              "Resolving data files:   0%|          | 0/65 [00:00<?, ?it/s]"
            ],
            "application/vnd.jupyter.widget-view+json": {
              "version_major": 2,
              "version_minor": 0,
              "model_id": "807b5a0e7fb24f20bf9a364084883bde"
            }
          },
          "metadata": {}
        },
        {
          "output_type": "display_data",
          "data": {
            "text/plain": [
              "Resolving data files:   0%|          | 0/28 [00:00<?, ?it/s]"
            ],
            "application/vnd.jupyter.widget-view+json": {
              "version_major": 2,
              "version_minor": 0,
              "model_id": "52f4910a7a5d48f496688b1b1bce8bfa"
            }
          },
          "metadata": {}
        }
      ]
    },
    {
      "cell_type": "code",
      "source": [
        "flight_safety_dataset"
      ],
      "metadata": {
        "colab": {
          "base_uri": "https://localhost:8080/"
        },
        "id": "SX1PAeJwSbXX",
        "outputId": "396d78ff-c07d-4a65-c125-fde5122e00af"
      },
      "execution_count": null,
      "outputs": [
        {
          "output_type": "execute_result",
          "data": {
            "text/plain": [
              "DatasetDict({\n",
              "    train: Dataset({\n",
              "        features: ['text'],\n",
              "        num_rows: 47257\n",
              "    })\n",
              "    test: Dataset({\n",
              "        features: ['text'],\n",
              "        num_rows: 20216\n",
              "    })\n",
              "})"
            ]
          },
          "metadata": {},
          "execution_count": 22
        }
      ]
    }
  ]
}